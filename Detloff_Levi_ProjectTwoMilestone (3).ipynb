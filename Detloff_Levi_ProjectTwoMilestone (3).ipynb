{
 "cells": [
  {
   "cell_type": "markdown",
   "metadata": {},
   "source": [
    "# Treasure Hunt Game Notebook\n",
    "\n",
    "## Read and Review Your Starter Code\n",
    "The theme of this project is a popular treasure hunt game in which the player needs to find the treasure before the pirate does. While you will not be developing the entire game, you will write the part of the game that represents the intelligent agent, which is a pirate in this case. The pirate will try to find the optimal path to the treasure using deep Q-learning. \n",
    "\n",
    "You have been provided with two Python classes and this notebook to help you with this assignment. The first class, TreasureMaze.py, represents the environment, which includes a maze object defined as a matrix. The second class, GameExperience.py, stores the episodes – that is, all the states that come in between the initial state and the terminal state. This is later used by the agent for learning by experience, called \"exploration\". This notebook shows how to play a game. Your task is to complete the deep Q-learning implementation for which a skeleton implementation has been provided. The code blocks you will need to complete has #TODO as a header.\n",
    "\n",
    "First, read and review the next few code and instruction blocks to understand the code that you have been given."
   ]
  },
  {
   "cell_type": "code",
   "execution_count": null,
   "metadata": {},
   "outputs": [],
   "source": [
    "from __future__ import print_function\n",
    "import os, sys, time, datetime, json, random\n",
    "import numpy as np\n",
    "from keras.models import Sequential\n",
    "from keras.layers.core import Dense, Activation\n",
    "from keras.optimizers import SGD , Adam, RMSprop\n",
    "from keras.layers.advanced_activations import PReLU\n",
    "import matplotlib.pyplot as plt\n",
    "from TreasureMaze import TreasureMaze\n",
    "from GameExperience import GameExperience\n",
    "%matplotlib inline"
   ]
  },
  {
   "cell_type": "markdown",
   "metadata": {},
   "source": [
    "The following code block contains an 8x8 matrix that will be used as a maze object:"
   ]
  },
  {
   "cell_type": "code",
   "execution_count": null,
   "metadata": {},
   "outputs": [],
   "source": [
    "maze = np.array([\n",
    "    [ 1.,  0.,  1.,  1.,  1.,  1.,  1.,  1.],\n",
    "    [ 1.,  0.,  1.,  1.,  1.,  0.,  1.,  1.],\n",
    "    [ 1.,  1.,  1.,  1.,  0.,  1.,  0.,  1.],\n",
    "    [ 1.,  1.,  1.,  0.,  1.,  1.,  1.,  1.],\n",
    "    [ 1.,  1.,  0.,  1.,  1.,  1.,  1.,  1.],\n",
    "    [ 1.,  1.,  1.,  0.,  1.,  0.,  0.,  0.],\n",
    "    [ 1.,  1.,  1.,  0.,  1.,  1.,  1.,  1.],\n",
    "    [ 1.,  1.,  1.,  1.,  0.,  1.,  1.,  1.]\n",
    "])"
   ]
  },
  {
   "cell_type": "markdown",
   "metadata": {},
   "source": [
    "This helper function allows a visual representation of the maze object:"
   ]
  },
  {
   "cell_type": "code",
   "execution_count": null,
   "metadata": {},
   "outputs": [],
   "source": [
    "def show(qmaze):\n",
    "    plt.grid('on')\n",
    "    nrows, ncols = qmaze.maze.shape\n",
    "    ax = plt.gca()\n",
    "    ax.set_xticks(np.arange(0.5, nrows, 1))\n",
    "    ax.set_yticks(np.arange(0.5, ncols, 1))\n",
    "    ax.set_xticklabels([])\n",
    "    ax.set_yticklabels([])\n",
    "    canvas = np.copy(qmaze.maze)\n",
    "    for row,col in qmaze.visited:\n",
    "        canvas[row,col] = 0.6\n",
    "    pirate_row, pirate_col, _ = qmaze.state\n",
    "    canvas[pirate_row, pirate_col] = 0.3   # pirate cell\n",
    "    canvas[nrows-1, ncols-1] = 0.9 # treasure cell\n",
    "    img = plt.imshow(canvas, interpolation='none', cmap='gray')\n",
    "    return img"
   ]
  },
  {
   "cell_type": "markdown",
   "metadata": {},
   "source": [
    "The pirate agent can move in four directions: left, right, up, and down. \n",
    "\n",
    "While the agent primarily learns by experience through exploitation, often, the agent can choose to explore the environment to find previously undiscovered paths. This is called \"exploration\" and is defined by epsilon. This value is typically a lower value such as 0.1, which means for every ten attempts, the agent will attempt to learn by experience nine times and will randomly explore a new path one time. You are encouraged to try various values for the exploration factor and see how the algorithm performs."
   ]
  },
  {
   "cell_type": "code",
   "execution_count": null,
   "metadata": {},
   "outputs": [],
   "source": [
    "LEFT = 0\n",
    "UP = 1\n",
    "RIGHT = 2\n",
    "DOWN = 3\n",
    "\n",
    "\n",
    "# Exploration factor\n",
    "epsilon = 0.1\n",
    "\n",
    "# Actions dictionary\n",
    "actions_dict = {\n",
    "    LEFT: 'left',\n",
    "    UP: 'up',\n",
    "    RIGHT: 'right',\n",
    "    DOWN: 'down',\n",
    "}\n",
    "\n",
    "num_actions = len(actions_dict)\n"
   ]
  },
  {
   "cell_type": "markdown",
   "metadata": {},
   "source": [
    "The sample code block and output below show creating a maze object and performing one action (DOWN), which returns the reward. The resulting updated environment is visualized."
   ]
  },
  {
   "cell_type": "code",
   "execution_count": null,
   "metadata": {},
   "outputs": [],
   "source": [
    "qmaze = TreasureMaze(maze)\n",
    "canvas, reward, game_over = qmaze.act(DOWN)\n",
    "print(\"reward=\", reward)\n",
    "show(qmaze)"
   ]
  },
  {
   "cell_type": "markdown",
   "metadata": {},
   "source": [
    "This function simulates a full game based on the provided trained model. The other parameters include the TreasureMaze object and the starting position of the pirate."
   ]
  },
  {
   "cell_type": "code",
   "execution_count": null,
   "metadata": {},
   "outputs": [],
   "source": [
    "def play_game(model, qmaze, pirate_cell):\n",
    "    qmaze.reset(pirate_cell)\n",
    "    envstate = qmaze.observe()\n",
    "    while True:\n",
    "        prev_envstate = envstate\n",
    "        # get next action\n",
    "        q = model.predict(prev_envstate)\n",
    "        action = np.argmax(q[0])\n",
    "\n",
    "        # apply action, get rewards and new state\n",
    "        envstate, reward, game_status = qmaze.act(action)\n",
    "        if game_status == 'win':\n",
    "            return True\n",
    "        elif game_status == 'lose':\n",
    "            return False"
   ]
  },
  {
   "cell_type": "markdown",
   "metadata": {},
   "source": [
    "This function helps you to determine whether the pirate can win any game at all. If your maze is not well designed, the pirate may not win any game at all. In this case, your training would not yield any result. The provided maze in this notebook ensures that there is a path to win and you can run this method to check."
   ]
  },
  {
   "cell_type": "code",
   "execution_count": null,
   "metadata": {},
   "outputs": [],
   "source": [
    "def completion_check(model, qmaze):\n",
    "    for cell in qmaze.free_cells:\n",
    "        if not qmaze.valid_actions(cell):\n",
    "            return False\n",
    "        if not play_game(model, qmaze, cell):\n",
    "            return False\n",
    "    return True"
   ]
  },
  {
   "cell_type": "markdown",
   "metadata": {},
   "source": [
    "The code you have been given in this block will build the neural network model. Review the code and note the number of layers, as well as the activation, optimizer, and loss functions that are used to train the model."
   ]
  },
  {
   "cell_type": "code",
   "execution_count": null,
   "metadata": {},
   "outputs": [],
   "source": [
    "def build_model(maze):\n",
    "    model = Sequential()\n",
    "    model.add(Dense(maze.size, input_shape=(maze.size,)))\n",
    "    model.add(PReLU())\n",
    "    model.add(Dense(maze.size))\n",
    "    model.add(PReLU())\n",
    "    model.add(Dense(num_actions))\n",
    "    model.compile(optimizer='adam', loss='mse')\n",
    "    return model"
   ]
  },
  {
   "cell_type": "markdown",
   "metadata": {},
   "source": [
    "# #TODO: Complete the Q-Training Algorithm Code Block\n",
    "\n",
    "This is your deep Q-learning implementation. The goal of your deep Q-learning implementation is to find the best possible navigation sequence that results in reaching the treasure cell while maximizing the reward. In your implementation, you need to determine the optimal number of epochs to achieve a 100% win rate.\n",
    "\n",
    "You will need to complete the section starting with #pseudocode. The pseudocode has been included for you."
   ]
  },
  {
   "cell_type": "code",
   "execution_count": null,
   "metadata": {},
   "outputs": [],
   "source": [
    "def qtrain(model, maze, **opt):\n",
    "\n",
    "    # exploration factor\n",
    "    global epsilon \n",
    "    epsilon = opt.get('epsilon', 1.0)\n",
    "    # number of epochs\n",
    "    n_epoch = opt.get('n_epoch', 150)\n",
    "\n",
    "    # maximum memory to store episodes\n",
    "    max_memory = opt.get('max_memory', 1000)\n",
    "\n",
    "    # maximum data size for training\n",
    "    data_size = opt.get('data_size', 50)\n",
    "\n",
    "    # start time\n",
    "    start_time = datetime.datetime.now()\n",
    "\n",
    "    # Construct environment/game from numpy array: maze (see above)\n",
    "    qmaze = TreasureMaze(maze)\n",
    "\n",
    "    # Initialize experience replay object\n",
    "    experience = GameExperience(model, max_memory=max_memory)\n",
    "    \n",
    "    win_history = []   # history of win/lose game\n",
    "    hsize = qmaze.maze.size//2   # history window size\n",
    "    win_rate = 0.0\n",
    "    \n",
    "    # pseudocode:\n",
    "    # For each epoch:\n",
    "    #    Agent_cell = randomly select a free cell\n",
    "    #    Reset the maze with agent set to above position\n",
    "    #    Hint: Review the reset method in the TreasureMaze.py class.\n",
    "    #    envstate = Environment.current_state\n",
    "    #    Hint: Review the observe method in the TreasureMaze.py class.\n",
    "    #    While state is not game over:\n",
    "    #        previous_envstate = envstate\n",
    "    #        Action = randomly choose action (left, right, up, down) either by exploration or by exploitation\n",
    "    #        envstate, reward, game_status = qmaze.act(action)\n",
    "    #    Hint: Review the act method in the TreasureMaze.py class.\n",
    "    #        episode = [previous_envstate, action, reward, envstate, game_status]\n",
    "    #        Store episode in Experience replay object\n",
    "    #    Hint: Review the remember method in the GameExperience.py class.\n",
    "    #        Train neural network model and evaluate loss\n",
    "    #    Hint: Call GameExperience.get_data to retrieve training data (input and target) and pass to model.fit method \n",
    "    #          to train the model. You can call model.evaluate to determine loss.\n",
    "    #    If the win rate is above the threshold and your model passes the completion check, that would be your epoch.\n",
    "    for epoch in range(n_epoch):\n",
    "        agent_cell = qmaze.free_cells[np.random.randint(0, len(qmaze.free_cells))]\n",
    "        \n",
    "        qmaze.reset(agent_cell)\n",
    "        \n",
    "        envstate = qmaze.observe()\n",
    "        \n",
    "        n_episodes = 0\n",
    "        loss = 0.0\n",
    "        \n",
    "        while True:\n",
    "            prev_envstate = envstate\n",
    "            \n",
    "            if np.random.rand() < epsilon:\n",
    "                action = np.random.choice([LEFT, UP, RIGHT, DOWN])\n",
    "            else:\n",
    "                q = model.predict(previous_envstate)\n",
    "                action = np.argmax(q[0])\n",
    "                \n",
    "            envstate, reward, game_status = qmaze.act(action)\n",
    "            \n",
    "            episode = [prev_envstate, action, reward, envstate, game_status]\n",
    "            \n",
    "            experience.remember(episode)\n",
    "            \n",
    "            inputs, targets = experience.get_data(data_size=data_size)\n",
    "            if inputs is not None:\n",
    "                loss += model.train_on_batch(inputs, targets)\n",
    "                \n",
    "            n_episodes += 1\n",
    "            \n",
    "            if game_status == 'win':\n",
    "                win_history.append(1)\n",
    "                win_rate = sum(win_history[-hsize:]) / hsize\n",
    "                break\n",
    "            elif game_status == 'lose':\n",
    "                win_history.append(0)\n",
    "                win_rate = sum(win_history[-hsize:]) / hsize\n",
    "                break\n",
    "\n",
    "\n",
    "    #Print the epoch, loss, episodes, win count, and win rate for each epoch\n",
    "        dt = datetime.datetime.now() - start_time\n",
    "        t = format_time(dt.total_seconds())\n",
    "        template = \"Epoch: {:03d}/{:d} | Loss: {:.4f} | Episodes: {:d} | Win count: {:d} | Win rate: {:.3f} | time: {}\"\n",
    "        print(template.format(epoch, n_epoch-1, loss, n_episodes, sum(win_history), win_rate, t))\n",
    "        # We simply check if training has exhausted all free cells and if in all\n",
    "        # cases the agent won.\n",
    "        if win_rate > 0.9 : epsilon = 0.05\n",
    "        if sum(win_history[-hsize:]) == hsize and completion_check(model, qmaze):\n",
    "            print(\"Reached 100%% win rate at epoch: %d\" % (epoch,))\n",
    "            break\n",
    "    \n",
    "    \n",
    "    # Determine the total time for training\n",
    "    dt = datetime.datetime.now() - start_time\n",
    "    seconds = dt.total_seconds()\n",
    "    t = format_time(seconds)\n",
    "\n",
    "    print(\"n_epoch: %d, max_mem: %d, data: %d, time: %s\" % (epoch, max_memory, data_size, t))\n",
    "    return seconds\n",
    "\n",
    "# This is a small utility for printing readable time strings:\n",
    "def format_time(seconds):\n",
    "    if seconds < 400:\n",
    "        s = float(seconds)\n",
    "        return \"%.1f seconds\" % (s,)\n",
    "    elif seconds < 4000:\n",
    "        m = seconds / 60.0\n",
    "        return \"%.2f minutes\" % (m,)\n",
    "    else:\n",
    "        h = seconds / 3600.0\n",
    "        return \"%.2f hours\" % (h,)"
   ]
  },
  {
   "cell_type": "markdown",
   "metadata": {},
   "source": [
    "## Test Your Model\n",
    "\n",
    "Now we will start testing the deep Q-learning implementation. To begin, select **Cell**, then **Run All** from the menu bar. This will run your notebook. As it runs, you should see output begin to appear beneath the next few cells. The code below creates an instance of TreasureMaze."
   ]
  },
  {
   "cell_type": "code",
   "execution_count": 67,
   "metadata": {},
   "outputs": [
    {
     "data": {
      "text/plain": [
       "<matplotlib.image.AxesImage at 0x26697e05348>"
      ]
     },
     "execution_count": 67,
     "metadata": {},
     "output_type": "execute_result"
    },
    {
     "data": {
      "image/png": "[encoded data removed]",
      "text/plain": [
       "<Figure size 432x288 with 1 Axes>"
      ]
     },
     "metadata": {
      "needs_background": "light"
     },
     "output_type": "display_data"
    }
   ],
   "source": [
    "qmaze = TreasureMaze(maze)\n",
    "show(qmaze)"
   ]
  },
  {
   "cell_type": "markdown",
   "metadata": {},
   "source": [
    "In the next code block, you will build your model and train it using deep Q-learning. Note: This step takes several minutes to fully run."
   ]
  },
  {
   "cell_type": "code",
   "execution_count": 68,
   "metadata": {
    "scrolled": true
   },
   "outputs": [
    {
     "name": "stdout",
     "output_type": "stream",
     "text": [
      "Epoch: 000/149 | Loss: 0.6527 | Episodes: 146 | Win count: 0 | Win rate: 0.000 | time: 11.6 seconds\n",
      "Epoch: 001/149 | Loss: 0.2208 | Episodes: 143 | Win count: 0 | Win rate: 0.000 | time: 23.1 seconds\n",
      "Epoch: 002/149 | Loss: 0.2015 | Episodes: 138 | Win count: 0 | Win rate: 0.000 | time: 35.0 seconds\n",
      "Epoch: 003/149 | Loss: 0.2023 | Episodes: 146 | Win count: 0 | Win rate: 0.000 | time: 47.0 seconds\n",
      "Epoch: 004/149 | Loss: 0.1731 | Episodes: 136 | Win count: 0 | Win rate: 0.000 | time: 57.8 seconds\n",
      "Epoch: 005/149 | Loss: 0.1801 | Episodes: 149 | Win count: 0 | Win rate: 0.000 | time: 70.1 seconds\n",
      "Epoch: 006/149 | Loss: 0.1913 | Episodes: 150 | Win count: 0 | Win rate: 0.000 | time: 86.1 seconds\n",
      "Epoch: 007/149 | Loss: 0.1865 | Episodes: 141 | Win count: 0 | Win rate: 0.000 | time: 98.0 seconds\n",
      "Epoch: 008/149 | Loss: 0.1853 | Episodes: 140 | Win count: 0 | Win rate: 0.000 | time: 110.0 seconds\n",
      "Epoch: 009/149 | Loss: 0.1815 | Episodes: 149 | Win count: 0 | Win rate: 0.000 | time: 121.7 seconds\n",
      "Epoch: 010/149 | Loss: 0.1718 | Episodes: 144 | Win count: 0 | Win rate: 0.000 | time: 133.5 seconds\n",
      "Epoch: 011/149 | Loss: 0.1933 | Episodes: 153 | Win count: 0 | Win rate: 0.000 | time: 145.7 seconds\n",
      "Epoch: 012/149 | Loss: 0.1900 | Episodes: 145 | Win count: 0 | Win rate: 0.000 | time: 157.4 seconds\n",
      "Epoch: 013/149 | Loss: 0.0429 | Episodes: 31 | Win count: 1 | Win rate: 0.031 | time: 160.1 seconds\n",
      "Epoch: 014/149 | Loss: 0.2554 | Episodes: 149 | Win count: 1 | Win rate: 0.031 | time: 171.9 seconds\n",
      "Epoch: 015/149 | Loss: 0.2782 | Episodes: 148 | Win count: 1 | Win rate: 0.031 | time: 184.6 seconds\n",
      "Epoch: 016/149 | Loss: 0.3010 | Episodes: 149 | Win count: 1 | Win rate: 0.031 | time: 196.4 seconds\n",
      "Epoch: 017/149 | Loss: 0.2814 | Episodes: 142 | Win count: 1 | Win rate: 0.031 | time: 208.0 seconds\n",
      "Epoch: 018/149 | Loss: 0.2111 | Episodes: 153 | Win count: 1 | Win rate: 0.031 | time: 220.1 seconds\n",
      "Epoch: 019/149 | Loss: 0.2189 | Episodes: 148 | Win count: 1 | Win rate: 0.031 | time: 232.5 seconds\n",
      "Epoch: 020/149 | Loss: 0.1953 | Episodes: 141 | Win count: 1 | Win rate: 0.031 | time: 244.5 seconds\n",
      "Epoch: 021/149 | Loss: 0.0017 | Episodes: 1 | Win count: 2 | Win rate: 0.062 | time: 244.5 seconds\n",
      "Epoch: 022/149 | Loss: 0.2149 | Episodes: 137 | Win count: 2 | Win rate: 0.062 | time: 255.7 seconds\n",
      "Epoch: 023/149 | Loss: 0.2619 | Episodes: 145 | Win count: 2 | Win rate: 0.062 | time: 268.7 seconds\n",
      "Epoch: 024/149 | Loss: 0.1922 | Episodes: 139 | Win count: 2 | Win rate: 0.062 | time: 280.8 seconds\n",
      "Epoch: 025/149 | Loss: 0.0540 | Episodes: 24 | Win count: 3 | Win rate: 0.094 | time: 283.1 seconds\n",
      "Epoch: 026/149 | Loss: 0.0070 | Episodes: 7 | Win count: 4 | Win rate: 0.125 | time: 283.6 seconds\n",
      "Epoch: 027/149 | Loss: 0.3870 | Episodes: 146 | Win count: 4 | Win rate: 0.125 | time: 297.1 seconds\n",
      "Epoch: 028/149 | Loss: 0.3907 | Episodes: 143 | Win count: 4 | Win rate: 0.125 | time: 310.7 seconds\n",
      "Epoch: 029/149 | Loss: 0.3712 | Episodes: 139 | Win count: 4 | Win rate: 0.125 | time: 322.3 seconds\n",
      "Epoch: 030/149 | Loss: 0.2781 | Episodes: 146 | Win count: 4 | Win rate: 0.125 | time: 333.5 seconds\n",
      "Epoch: 031/149 | Loss: 0.1561 | Episodes: 139 | Win count: 4 | Win rate: 0.125 | time: 344.5 seconds\n",
      "Epoch: 032/149 | Loss: 0.1409 | Episodes: 138 | Win count: 4 | Win rate: 0.125 | time: 355.8 seconds\n",
      "Epoch: 033/149 | Loss: 0.1463 | Episodes: 147 | Win count: 4 | Win rate: 0.125 | time: 368.0 seconds\n",
      "Epoch: 034/149 | Loss: 0.1571 | Episodes: 143 | Win count: 4 | Win rate: 0.125 | time: 379.8 seconds\n",
      "Epoch: 035/149 | Loss: 0.0100 | Episodes: 13 | Win count: 5 | Win rate: 0.156 | time: 380.8 seconds\n",
      "Epoch: 036/149 | Loss: 0.3574 | Episodes: 159 | Win count: 5 | Win rate: 0.156 | time: 393.2 seconds\n",
      "Epoch: 037/149 | Loss: 0.3409 | Episodes: 140 | Win count: 5 | Win rate: 0.156 | time: 6.75 minutes\n",
      "Epoch: 038/149 | Loss: 0.2849 | Episodes: 138 | Win count: 5 | Win rate: 0.156 | time: 6.95 minutes\n",
      "Epoch: 039/149 | Loss: 0.2475 | Episodes: 144 | Win count: 5 | Win rate: 0.156 | time: 7.15 minutes\n",
      "Epoch: 040/149 | Loss: 0.1453 | Episodes: 147 | Win count: 5 | Win rate: 0.156 | time: 7.35 minutes\n",
      "Epoch: 041/149 | Loss: 0.1906 | Episodes: 150 | Win count: 5 | Win rate: 0.156 | time: 7.56 minutes\n",
      "Epoch: 042/149 | Loss: 0.1748 | Episodes: 143 | Win count: 5 | Win rate: 0.156 | time: 7.75 minutes\n",
      "Epoch: 043/149 | Loss: 0.1840 | Episodes: 144 | Win count: 5 | Win rate: 0.156 | time: 7.95 minutes\n",
      "Epoch: 044/149 | Loss: 0.2051 | Episodes: 148 | Win count: 5 | Win rate: 0.156 | time: 8.14 minutes\n",
      "Epoch: 045/149 | Loss: 0.1903 | Episodes: 145 | Win count: 5 | Win rate: 0.125 | time: 8.33 minutes\n",
      "Epoch: 046/149 | Loss: 0.0692 | Episodes: 58 | Win count: 6 | Win rate: 0.156 | time: 8.41 minutes\n",
      "Epoch: 047/149 | Loss: 0.3670 | Episodes: 159 | Win count: 6 | Win rate: 0.156 | time: 8.61 minutes\n",
      "Epoch: 048/149 | Loss: 0.3519 | Episodes: 141 | Win count: 6 | Win rate: 0.156 | time: 8.80 minutes\n",
      "Epoch: 049/149 | Loss: 0.3010 | Episodes: 145 | Win count: 6 | Win rate: 0.156 | time: 9.02 minutes\n",
      "Epoch: 050/149 | Loss: 0.2053 | Episodes: 141 | Win count: 6 | Win rate: 0.156 | time: 9.22 minutes\n",
      "Epoch: 051/149 | Loss: 0.1313 | Episodes: 109 | Win count: 7 | Win rate: 0.188 | time: 9.40 minutes\n",
      "Epoch: 052/149 | Loss: 0.3175 | Episodes: 149 | Win count: 7 | Win rate: 0.188 | time: 9.61 minutes\n",
      "Epoch: 053/149 | Loss: 0.3210 | Episodes: 151 | Win count: 7 | Win rate: 0.156 | time: 9.83 minutes\n",
      "Epoch: 054/149 | Loss: 0.0009 | Episodes: 1 | Win count: 8 | Win rate: 0.188 | time: 9.84 minutes\n",
      "Epoch: 055/149 | Loss: 0.0119 | Episodes: 1 | Win count: 9 | Win rate: 0.219 | time: 9.84 minutes\n",
      "Epoch: 056/149 | Loss: 0.5518 | Episodes: 143 | Win count: 9 | Win rate: 0.219 | time: 10.05 minutes\n",
      "Epoch: 057/149 | Loss: 0.3736 | Episodes: 148 | Win count: 9 | Win rate: 0.188 | time: 10.25 minutes\n",
      "Epoch: 058/149 | Loss: 0.3193 | Episodes: 143 | Win count: 9 | Win rate: 0.156 | time: 10.46 minutes\n",
      "Epoch: 059/149 | Loss: 0.2417 | Episodes: 149 | Win count: 9 | Win rate: 0.156 | time: 10.65 minutes\n",
      "Epoch: 060/149 | Loss: 0.0238 | Episodes: 20 | Win count: 10 | Win rate: 0.188 | time: 10.68 minutes\n",
      "Epoch: 061/149 | Loss: 0.2797 | Episodes: 141 | Win count: 10 | Win rate: 0.188 | time: 10.86 minutes\n",
      "Epoch: 062/149 | Loss: 0.0011 | Episodes: 1 | Win count: 11 | Win rate: 0.219 | time: 10.86 minutes\n",
      "Epoch: 063/149 | Loss: 0.3120 | Episodes: 139 | Win count: 11 | Win rate: 0.219 | time: 11.04 minutes\n",
      "Epoch: 064/149 | Loss: 0.3532 | Episodes: 139 | Win count: 11 | Win rate: 0.219 | time: 11.22 minutes\n",
      "Epoch: 065/149 | Loss: 0.2928 | Episodes: 144 | Win count: 11 | Win rate: 0.219 | time: 11.42 minutes\n",
      "Epoch: 066/149 | Loss: 0.2095 | Episodes: 142 | Win count: 11 | Win rate: 0.219 | time: 11.61 minutes\n",
      "Epoch: 067/149 | Loss: 0.1625 | Episodes: 144 | Win count: 11 | Win rate: 0.188 | time: 11.83 minutes\n",
      "Epoch: 068/149 | Loss: 0.1507 | Episodes: 144 | Win count: 11 | Win rate: 0.188 | time: 12.03 minutes\n",
      "Epoch: 069/149 | Loss: 0.1638 | Episodes: 144 | Win count: 11 | Win rate: 0.188 | time: 12.21 minutes\n",
      "Epoch: 070/149 | Loss: 0.1727 | Episodes: 144 | Win count: 11 | Win rate: 0.188 | time: 12.40 minutes\n",
      "Epoch: 071/149 | Loss: 0.1515 | Episodes: 137 | Win count: 11 | Win rate: 0.188 | time: 12.58 minutes\n",
      "Epoch: 072/149 | Loss: 0.1552 | Episodes: 144 | Win count: 11 | Win rate: 0.188 | time: 12.77 minutes\n",
      "Epoch: 073/149 | Loss: 0.0404 | Episodes: 33 | Win count: 12 | Win rate: 0.219 | time: 12.81 minutes\n",
      "Epoch: 074/149 | Loss: 0.2646 | Episodes: 144 | Win count: 12 | Win rate: 0.219 | time: 13.01 minutes\n",
      "Epoch: 075/149 | Loss: 0.0118 | Episodes: 8 | Win count: 13 | Win rate: 0.250 | time: 13.02 minutes\n",
      "Epoch: 076/149 | Loss: 0.2949 | Episodes: 148 | Win count: 13 | Win rate: 0.250 | time: 13.21 minutes\n",
      "Epoch: 077/149 | Loss: 0.2891 | Episodes: 139 | Win count: 13 | Win rate: 0.250 | time: 13.39 minutes\n",
      "Epoch: 078/149 | Loss: 0.2473 | Episodes: 142 | Win count: 13 | Win rate: 0.219 | time: 13.57 minutes\n",
      "Epoch: 079/149 | Loss: 0.1807 | Episodes: 141 | Win count: 13 | Win rate: 0.219 | time: 13.77 minutes\n",
      "Epoch: 080/149 | Loss: 0.1451 | Episodes: 139 | Win count: 13 | Win rate: 0.219 | time: 13.94 minutes\n",
      "Epoch: 081/149 | Loss: 0.1657 | Episodes: 149 | Win count: 13 | Win rate: 0.219 | time: 14.13 minutes\n",
      "Epoch: 082/149 | Loss: 0.1509 | Episodes: 140 | Win count: 13 | Win rate: 0.219 | time: 14.33 minutes\n",
      "Epoch: 083/149 | Loss: 0.1894 | Episodes: 157 | Win count: 13 | Win rate: 0.188 | time: 14.58 minutes\n",
      "Epoch: 084/149 | Loss: 0.2266 | Episodes: 160 | Win count: 13 | Win rate: 0.188 | time: 14.84 minutes\n",
      "Epoch: 085/149 | Loss: 0.2084 | Episodes: 139 | Win count: 13 | Win rate: 0.188 | time: 15.05 minutes\n",
      "Epoch: 086/149 | Loss: 0.2179 | Episodes: 144 | Win count: 13 | Win rate: 0.156 | time: 15.28 minutes\n",
      "Epoch: 087/149 | Loss: 0.1999 | Episodes: 153 | Win count: 13 | Win rate: 0.125 | time: 15.49 minutes\n",
      "Epoch: 088/149 | Loss: 0.1719 | Episodes: 139 | Win count: 13 | Win rate: 0.125 | time: 15.67 minutes\n",
      "Epoch: 089/149 | Loss: 0.1814 | Episodes: 143 | Win count: 13 | Win rate: 0.125 | time: 15.87 minutes\n",
      "Epoch: 090/149 | Loss: 0.1802 | Episodes: 145 | Win count: 13 | Win rate: 0.125 | time: 16.06 minutes\n",
      "Epoch: 091/149 | Loss: 0.1488 | Episodes: 139 | Win count: 13 | Win rate: 0.125 | time: 16.25 minutes\n",
      "Epoch: 092/149 | Loss: 0.1588 | Episodes: 150 | Win count: 13 | Win rate: 0.094 | time: 16.46 minutes\n",
      "Epoch: 093/149 | Loss: 0.1906 | Episodes: 152 | Win count: 13 | Win rate: 0.094 | time: 16.66 minutes\n",
      "Epoch: 094/149 | Loss: 0.2127 | Episodes: 160 | Win count: 13 | Win rate: 0.062 | time: 16.87 minutes\n",
      "Epoch: 095/149 | Loss: 0.2339 | Episodes: 145 | Win count: 13 | Win rate: 0.062 | time: 17.07 minutes\n",
      "Epoch: 096/149 | Loss: 0.0143 | Episodes: 8 | Win count: 14 | Win rate: 0.094 | time: 17.08 minutes\n",
      "Epoch: 097/149 | Loss: 0.2892 | Episodes: 142 | Win count: 14 | Win rate: 0.094 | time: 17.27 minutes\n",
      "Epoch: 098/149 | Loss: 0.2858 | Episodes: 142 | Win count: 14 | Win rate: 0.094 | time: 17.46 minutes\n",
      "Epoch: 099/149 | Loss: 0.2748 | Episodes: 160 | Win count: 14 | Win rate: 0.094 | time: 17.67 minutes\n",
      "Epoch: 100/149 | Loss: 0.2139 | Episodes: 148 | Win count: 14 | Win rate: 0.094 | time: 17.87 minutes\n",
      "Epoch: 101/149 | Loss: 0.1936 | Episodes: 137 | Win count: 14 | Win rate: 0.094 | time: 18.05 minutes\n",
      "Epoch: 102/149 | Loss: 0.1379 | Episodes: 114 | Win count: 15 | Win rate: 0.125 | time: 18.20 minutes\n",
      "Epoch: 103/149 | Loss: 0.1965 | Episodes: 139 | Win count: 16 | Win rate: 0.156 | time: 18.38 minutes\n",
      "Epoch: 104/149 | Loss: 0.0107 | Episodes: 9 | Win count: 17 | Win rate: 0.188 | time: 18.39 minutes\n",
      "Epoch: 105/149 | Loss: 0.1885 | Episodes: 96 | Win count: 18 | Win rate: 0.188 | time: 18.52 minutes\n",
      "Epoch: 106/149 | Loss: 0.3924 | Episodes: 155 | Win count: 18 | Win rate: 0.188 | time: 18.71 minutes\n",
      "Epoch: 107/149 | Loss: 0.4161 | Episodes: 150 | Win count: 18 | Win rate: 0.156 | time: 18.91 minutes\n",
      "Epoch: 108/149 | Loss: 0.3985 | Episodes: 152 | Win count: 18 | Win rate: 0.156 | time: 19.12 minutes\n",
      "Epoch: 109/149 | Loss: 0.0353 | Episodes: 20 | Win count: 19 | Win rate: 0.188 | time: 19.14 minutes\n",
      "Epoch: 110/149 | Loss: 0.0080 | Episodes: 4 | Win count: 20 | Win rate: 0.219 | time: 19.15 minutes\n",
      "Epoch: 111/149 | Loss: 0.3198 | Episodes: 147 | Win count: 20 | Win rate: 0.219 | time: 19.37 minutes\n",
      "Epoch: 112/149 | Loss: 0.2437 | Episodes: 119 | Win count: 21 | Win rate: 0.250 | time: 19.54 minutes\n",
      "Epoch: 113/149 | Loss: 0.2146 | Episodes: 138 | Win count: 21 | Win rate: 0.250 | time: 19.75 minutes\n",
      "Epoch: 114/149 | Loss: 0.0665 | Episodes: 56 | Win count: 22 | Win rate: 0.281 | time: 19.83 minutes\n",
      "Epoch: 115/149 | Loss: 0.2374 | Episodes: 139 | Win count: 22 | Win rate: 0.281 | time: 20.04 minutes\n",
      "Epoch: 116/149 | Loss: 0.1535 | Episodes: 144 | Win count: 22 | Win rate: 0.281 | time: 20.27 minutes\n",
      "Epoch: 117/149 | Loss: 0.1544 | Episodes: 148 | Win count: 22 | Win rate: 0.281 | time: 20.48 minutes\n",
      "Epoch: 118/149 | Loss: 0.1609 | Episodes: 141 | Win count: 22 | Win rate: 0.281 | time: 20.65 minutes\n",
      "Epoch: 119/149 | Loss: 0.1639 | Episodes: 148 | Win count: 22 | Win rate: 0.281 | time: 20.85 minutes\n",
      "Epoch: 120/149 | Loss: 0.1814 | Episodes: 150 | Win count: 22 | Win rate: 0.281 | time: 21.04 minutes\n",
      "Epoch: 121/149 | Loss: 0.1450 | Episodes: 112 | Win count: 23 | Win rate: 0.312 | time: 21.18 minutes\n",
      "Epoch: 122/149 | Loss: 0.2308 | Episodes: 148 | Win count: 23 | Win rate: 0.312 | time: 21.38 minutes\n",
      "Epoch: 123/149 | Loss: 0.1699 | Episodes: 140 | Win count: 23 | Win rate: 0.312 | time: 21.56 minutes\n",
      "Epoch: 124/149 | Loss: 0.1977 | Episodes: 153 | Win count: 23 | Win rate: 0.312 | time: 21.77 minutes\n",
      "Epoch: 125/149 | Loss: 0.1916 | Episodes: 146 | Win count: 23 | Win rate: 0.312 | time: 21.96 minutes\n",
      "Epoch: 126/149 | Loss: 0.1956 | Episodes: 142 | Win count: 23 | Win rate: 0.312 | time: 22.14 minutes\n",
      "Epoch: 127/149 | Loss: 0.1916 | Episodes: 149 | Win count: 23 | Win rate: 0.312 | time: 22.33 minutes\n",
      "Epoch: 128/149 | Loss: 0.1822 | Episodes: 142 | Win count: 23 | Win rate: 0.281 | time: 22.53 minutes\n",
      "Epoch: 129/149 | Loss: 0.1471 | Episodes: 139 | Win count: 23 | Win rate: 0.281 | time: 22.71 minutes\n",
      "Epoch: 130/149 | Loss: 0.1604 | Episodes: 145 | Win count: 23 | Win rate: 0.281 | time: 22.90 minutes\n",
      "Epoch: 131/149 | Loss: 0.1551 | Episodes: 150 | Win count: 23 | Win rate: 0.281 | time: 23.08 minutes\n",
      "Epoch: 132/149 | Loss: 0.1742 | Episodes: 145 | Win count: 23 | Win rate: 0.281 | time: 23.26 minutes\n",
      "Epoch: 133/149 | Loss: 0.1736 | Episodes: 143 | Win count: 23 | Win rate: 0.281 | time: 23.46 minutes\n",
      "Epoch: 134/149 | Loss: 0.1718 | Episodes: 145 | Win count: 23 | Win rate: 0.250 | time: 23.64 minutes\n",
      "Epoch: 135/149 | Loss: 0.1522 | Episodes: 139 | Win count: 23 | Win rate: 0.219 | time: 23.82 minutes\n",
      "Epoch: 136/149 | Loss: 0.1620 | Episodes: 142 | Win count: 23 | Win rate: 0.188 | time: 24.01 minutes\n",
      "Epoch: 137/149 | Loss: 0.1425 | Episodes: 139 | Win count: 23 | Win rate: 0.156 | time: 24.18 minutes\n",
      "Epoch: 138/149 | Loss: 0.1310 | Episodes: 145 | Win count: 23 | Win rate: 0.156 | time: 24.39 minutes\n",
      "Epoch: 139/149 | Loss: 0.1392 | Episodes: 141 | Win count: 23 | Win rate: 0.156 | time: 24.62 minutes\n",
      "Epoch: 140/149 | Loss: 0.1678 | Episodes: 150 | Win count: 23 | Win rate: 0.156 | time: 24.84 minutes\n",
      "Epoch: 141/149 | Loss: 0.1886 | Episodes: 148 | Win count: 23 | Win rate: 0.125 | time: 25.08 minutes\n",
      "Epoch: 142/149 | Loss: 0.1494 | Episodes: 134 | Win count: 23 | Win rate: 0.094 | time: 25.29 minutes\n",
      "Epoch: 143/149 | Loss: 0.1620 | Episodes: 139 | Win count: 23 | Win rate: 0.094 | time: 25.48 minutes\n",
      "Epoch: 144/149 | Loss: 0.1327 | Episodes: 142 | Win count: 23 | Win rate: 0.062 | time: 25.68 minutes\n",
      "Epoch: 145/149 | Loss: 0.1407 | Episodes: 148 | Win count: 23 | Win rate: 0.062 | time: 25.88 minutes\n",
      "Epoch: 146/149 | Loss: 0.1733 | Episodes: 148 | Win count: 23 | Win rate: 0.031 | time: 26.08 minutes\n",
      "Epoch: 147/149 | Loss: 0.1949 | Episodes: 151 | Win count: 23 | Win rate: 0.031 | time: 26.27 minutes\n",
      "Epoch: 148/149 | Loss: 0.2054 | Episodes: 148 | Win count: 23 | Win rate: 0.031 | time: 26.46 minutes\n",
      "Epoch: 149/149 | Loss: 0.1957 | Episodes: 142 | Win count: 23 | Win rate: 0.031 | time: 26.64 minutes\n",
      "n_epoch: 149, max_mem: 512, data: 32, time: 26.64 minutes\n"
     ]
    },
    {
     "data": {
      "text/plain": [
       "1598.67804"
      ]
     },
     "execution_count": 68,
     "metadata": {},
     "output_type": "execute_result"
    }
   ],
   "source": [
    "model = build_model(maze)\n",
    "qtrain(model, maze, epochs=1000, max_memory=8*maze.size, data_size=32)"
   ]
  },
  {
   "cell_type": "markdown",
   "metadata": {},
   "source": [
    "This cell will check to see if the model passes the completion check. Note: This could take several minutes."
   ]
  },
  {
   "cell_type": "code",
   "execution_count": 69,
   "metadata": {},
   "outputs": [
    {
     "data": {
      "text/plain": [
       "<matplotlib.image.AxesImage at 0x26690682508>"
      ]
     },
     "execution_count": 69,
     "metadata": {},
     "output_type": "execute_result"
    },
    {
     "data": {
      "image/png": "[encoded data removed]",
      "text/plain": [
       "<Figure size 432x288 with 1 Axes>"
      ]
     },
     "metadata": {
      "needs_background": "light"
     },
     "output_type": "display_data"
    }
   ],
   "source": [
    "completion_check(model, qmaze)\n",
    "show(qmaze)"
   ]
  },
  {
   "cell_type": "markdown",
   "metadata": {},
   "source": [
    "This cell will test your model for one game. It will start the pirate at the top-left corner and run play_game. The agent should find a path from the starting position to the target (treasure). The treasure is located in the bottom-right corner."
   ]
  },
  {
   "cell_type": "code",
   "execution_count": 70,
   "metadata": {},
   "outputs": [
    {
     "data": {
      "text/plain": [
       "<matplotlib.image.AxesImage at 0x2669938bfc8>"
      ]
     },
     "execution_count": 70,
     "metadata": {},
     "output_type": "execute_result"
    },
    {
     "data": {
      "image/png": "[encoded data removed]",
      "text/plain": [
       "<Figure size 432x288 with 1 Axes>"
      ]
     },
     "metadata": {
      "needs_background": "light"
     },
     "output_type": "display_data"
    }
   ],
   "source": [
    "pirate_start = (0, 0)\n",
    "play_game(model, qmaze, pirate_start)\n",
    "show(qmaze)"
   ]
  },
  {
   "cell_type": "markdown",
   "metadata": {},
   "source": [
    "## Save and Submit Your Work\n",
    "After you have finished creating the code for your notebook, save your work. Make sure that your notebook contains your name in the filename (e.g. Doe_Jane_ProjectTwo.ipynb). This will help your instructor access and grade your work easily. Download a copy of your IPYNB file and submit it to Brightspace. Refer to the Jupyter Notebook in Apporto Tutorial if you need help with these tasks."
   ]
  }
 ],
 "metadata": {
  "kernelspec": {
   "display_name": "Python 3",
   "language": "python",
   "name": "python3"
  },
  "language_info": {
   "codemirror_mode": {
    "name": "ipython",
    "version": 3
   },
   "file_extension": ".py",
   "mimetype": "text/x-python",
   "name": "python",
   "nbconvert_exporter": "python",
   "pygments_lexer": "ipython3",
   "version": "3.7.4"
  }
 },
 "nbformat": 4,
 "nbformat_minor": 2
}
